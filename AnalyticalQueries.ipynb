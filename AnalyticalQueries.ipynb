{
 "cells": [
  {
   "attachments": {},
   "cell_type": "markdown",
   "id": "90f3c32f-d1d2-4c47-8483-d2687485e61f",
   "metadata": {},
   "source": [
    "Вывод пройденного расстояния за период (в разбивке по\n",
    "дням);\n",
    "\n",
    "- Вывод количества выполненных заказов за период (в\n",
    "разбивке по дням);\n",
    "- Время проведенное в движении за период (в разбивке по\n",
    "дням);\n",
    "- Время простоя за период (в разбивке по дням);\n",
    "- Время нахождения в каждом из статусов за период.\n"
   ]
  },
  {
   "cell_type": "code",
   "execution_count": 1,
   "id": "5dc3f507-7876-450f-96f2-5d7fca7c7b6a",
   "metadata": {},
   "outputs": [],
   "source": [
    "import pandas as pd\n",
    "from clickhouse_driver import Client\n"
   ]
  },
  {
   "cell_type": "code",
   "execution_count": 2,
   "id": "9ca2f2da-7337-4025-9cb0-a8df8ae23c41",
   "metadata": {},
   "outputs": [],
   "source": [
    "client = Client(host='75.119.142.124', port=9035, user='default', password='qolkasw10-=', database='default')\n"
   ]
  },
  {
   "cell_type": "code",
   "execution_count": 3,
   "id": "8e297938-e09a-4fb7-9767-3d756cc20ac4",
   "metadata": {},
   "outputs": [],
   "source": [
    "# parametered SQL query to fetch data\n",
    "params = {\n",
    "'forklit' : [0, 1],\n",
    "'warehouse' :  [0, 1],\n",
    "# _ts = YYYY-MM-DD HH:mm\n",
    "'from_ts' : \"2023-10-21 12:42:00.000\",\n",
    "'to_ts' : \"2023-10-21 12:45:00.000\",\n",
    "}\n",
    "query = f'''\n",
    "SELECT *\n",
    "FROM `default`.main_data_stg_t\n",
    "WHERE id_forklift in %(forklit)s \n",
    "and id_warehouse in  %(warehouse)s\n",
    "and event_timestamp BETWEEN %(from_ts)s and %(to_ts)s\n",
    "ORDER by event_timestamp ASC ;\n",
    "'''"
   ]
  },
  {
   "cell_type": "code",
   "execution_count": 4,
   "id": "b3ca71dd-0c0b-4641-ae1f-defc14a71992",
   "metadata": {},
   "outputs": [],
   "source": [
    "result = client.execute(query, params=params)\n",
    "\n",
    "# Convert the result to a Pandas DataFrame\n",
    "df = pd.DataFrame(result, columns=[desc[0] for desc in client.execute(\"DESCRIBE `default`.main_data_stg_t\")])\n"
   ]
  },
  {
   "cell_type": "code",
   "execution_count": 5,
   "id": "8b1218ed-f91c-48f1-bde8-5274fd409445",
   "metadata": {},
   "outputs": [],
   "source": [
    "# configs.py file\n",
    "# Справочник маршрутов погрузчиков по складу.\n",
    "# Каждый маршрут имеет id, id целевого стеллажа, а также набор контрольных точек.\n",
    "# Каждая контрольная точка имеет свой id, имя, а также расстояние до следующей КТ\n",
    "path_lib = {\n",
    "    1: {\"path_sequence\": [\n",
    "            {\"check_point_id\": 1,\n",
    "             \"check_point_name\": \"K1\",\n",
    "             \"next_check_point_distance\": 5},\n",
    "            {\"check_point_id\": 2,\n",
    "             \"check_point_name\": \"K2\",\n",
    "             \"next_check_point_distance\": 10},\n",
    "            {\"check_point_id\": 3,\n",
    "             \"check_point_name\": \"K3\",\n",
    "             \"next_check_point_distance\": 10}\n",
    "        ],\n",
    "        \"target_rack_id\": \"X1\"},\n",
    "    2: {\"path_sequence\": [\n",
    "            {\"check_point_id\": 1,\n",
    "             \"check_point_name\": \"K1\",\n",
    "             \"next_check_point_distance\": 5},\n",
    "            {\"check_point_id\": 2,\n",
    "             \"check_point_name\": \"K2\",\n",
    "             \"next_check_point_distance\": 10},\n",
    "            {\"check_point_id\": 3,\n",
    "             \"check_point_name\": \"K3\",\n",
    "             \"next_check_point_distance\": 15},\n",
    "            {\"check_point_id\": 4,\n",
    "             \"check_point_name\": \"K4\",\n",
    "             \"next_check_point_distance\": 10}\n",
    "        ],\n",
    "        \"target_rack_id\": \"X2\"},\n",
    "    3: {\"path_sequence\": [\n",
    "            {\"check_point_id\": 1,\n",
    "             \"check_point_name\": \"K1\",\n",
    "             \"next_check_point_distance\": 5},\n",
    "            {\"check_point_id\": 2,\n",
    "             \"check_point_name\": \"K2\",\n",
    "             \"next_check_point_distance\": 5},\n",
    "            {\"check_point_id\": 5,\n",
    "             \"check_point_name\": \"K5\",\n",
    "             \"next_check_point_distance\": 10},\n",
    "            {\"check_point_id\": 6,\n",
    "             \"check_point_name\": \"K6\",\n",
    "             \"next_check_point_distance\": 10}\n",
    "        ],\n",
    "        \"target_rack_id\": \"X3\"},\n",
    "    4: {\"path_sequence\": [\n",
    "            {\"check_point_id\": 1,\n",
    "             \"check_point_name\": \"K1\",\n",
    "             \"next_check_point_distance\": 5},\n",
    "            {\"check_point_id\": 2,\n",
    "             \"check_point_name\": \"K2\",\n",
    "             \"next_check_point_distance\": 5},\n",
    "            {\"check_point_id\": 5,\n",
    "             \"check_point_name\": \"K5\",\n",
    "             \"next_check_point_distance\": 10},\n",
    "            {\"check_point_id\": 6,\n",
    "             \"check_point_name\": \"K6\",\n",
    "             \"next_check_point_distance\": 15},\n",
    "            {\"check_point_id\": 7,\n",
    "             \"check_point_name\": \"K7\",\n",
    "             \"next_check_point_distance\": 10}\n",
    "        ],\n",
    "        \"target_rack_id\": \"X4\"},\n",
    "    5: {\"path_sequence\": [\n",
    "            {\"check_point_id\": 1,\n",
    "             \"check_point_name\": \"K1\",\n",
    "             \"next_check_point_distance\": 5},\n",
    "            {\"check_point_id\": 2,\n",
    "             \"check_point_name\": \"K2\",\n",
    "             \"next_check_point_distance\": 5},\n",
    "            {\"check_point_id\": 5,\n",
    "             \"check_point_name\": \"K5\",\n",
    "             \"next_check_point_distance\": 5},\n",
    "            {\"check_point_id\": 8,\n",
    "             \"check_point_name\": \"K8\",\n",
    "             \"next_check_point_distance\": 10},\n",
    "            {\"check_point_id\": 9,\n",
    "             \"check_point_name\": \"K9\",\n",
    "             \"next_check_point_distance\": 5}\n",
    "        ],\n",
    "        \"target_rack_id\": \"X5\"},\n",
    "    6: {\"path_sequence\": [\n",
    "            {\"check_point_id\": 1,\n",
    "             \"check_point_name\": \"K1\",\n",
    "             \"next_check_point_distance\": 5},\n",
    "            {\"check_point_id\": 2,\n",
    "             \"check_point_name\": \"K2\",\n",
    "             \"next_check_point_distance\": 5},\n",
    "            {\"check_point_id\": 5,\n",
    "             \"check_point_name\": \"K5\",\n",
    "             \"next_check_point_distance\": 5},\n",
    "            {\"check_point_id\": 8,\n",
    "             \"check_point_name\": \"K8\",\n",
    "             \"next_check_point_distance\": 10},\n",
    "            {\"check_point_id\": 9,\n",
    "             \"check_point_name\": \"K9\",\n",
    "             \"next_check_point_distance\": 15},\n",
    "            {\"check_point_id\": 10,\n",
    "             \"check_point_name\": \"K10\",\n",
    "             \"next_check_point_distance\": 10}\n",
    "        ],\n",
    "        \"target_rack_id\": \"X6\"}\n",
    "}\n",
    "\n",
    "# cities list\n",
    "cities = [\n",
    "    \"Rostov-on-Don\",\n",
    "    \"Moscow\",\n",
    "    \"Krasnodar\",\n",
    "    \"Tver\",\n",
    "    \"Saint Petersburg\",\n",
    "    \"Almaty\"\n",
    "]\n"
   ]
  },
  {
   "cell_type": "code",
   "execution_count": 6,
   "id": "8e53163e-8495-4f37-bb80-998d75105517",
   "metadata": {
    "scrolled": true
   },
   "outputs": [
    {
     "data": {
      "text/plain": [
       "{'K1': {'K1': 0, 'K2': 5},\n",
       " 'K2': {'K2': 0, 'K1': 5, 'K3': 10, 'K5': 5},\n",
       " 'K3': {'K3': 0, 'K2': 10, 'X1': 10, 'K4': 15},\n",
       " 'X1': {'X1': 0, 'K3': 10},\n",
       " 'K4': {'K4': 0, 'K3': 15, 'X2': 10},\n",
       " 'X2': {'X2': 0, 'K4': 10},\n",
       " 'K5': {'K5': 0, 'K2': 5, 'K6': 10, 'K8': 5},\n",
       " 'K6': {'K6': 0, 'K5': 10, 'X3': 10, 'K7': 15},\n",
       " 'X3': {'X3': 0, 'K6': 10},\n",
       " 'K7': {'K7': 0, 'K6': 15, 'X4': 10},\n",
       " 'X4': {'X4': 0, 'K7': 10},\n",
       " 'K8': {'K8': 0, 'K5': 5, 'K9': 10},\n",
       " 'K9': {'K9': 0, 'K8': 10, 'X5': 5, 'K10': 15},\n",
       " 'X5': {'X5': 0, 'K9': 5},\n",
       " 'K10': {'K10': 0, 'K9': 15, 'X6': 10},\n",
       " 'X6': {'X6': 0, 'K10': 10}}"
      ]
     },
     "execution_count": 6,
     "metadata": {},
     "output_type": "execute_result"
    }
   ],
   "source": [
    "# Generate a map of dists \n",
    "dists = {}\n",
    "for id, path in path_lib.items():\n",
    "    curr_pos =  path['path_sequence'][0]['check_point_name']\n",
    "    next_dist = path['path_sequence'][0]['next_check_point_distance']\n",
    "    for next_detail in path['path_sequence'][1:]:\n",
    "        next_pos = next_detail['check_point_name']\n",
    "        if curr_pos not in dists:\n",
    "            dists[curr_pos] = {curr_pos:0}\n",
    "        if next_pos not in dists:\n",
    "            dists[next_pos] = {next_pos:0}\n",
    "        dists[curr_pos][next_pos] = next_dist\n",
    "        dists[next_pos][curr_pos] = next_dist\n",
    "        curr_pos = next_pos\n",
    "        next_dist = next_detail['next_check_point_distance']\n",
    "    if curr_pos not in dists:\n",
    "        dists[curr_pos] = {curr_pos:0}\n",
    "    if path[\"target_rack_id\"] not in dists:\n",
    "        dists[path[\"target_rack_id\"]] = {path[\"target_rack_id\"]:0}\n",
    "    dists[curr_pos][path[\"target_rack_id\"]] = next_dist\n",
    "    dists[path[\"target_rack_id\"]][curr_pos] = next_dist\n",
    "\n",
    "dists"
   ]
  },
  {
   "cell_type": "code",
   "execution_count": 10,
   "id": "ef0b1b02-5b0d-4c15-81e8-3939ae1e00cd",
   "metadata": {},
   "outputs": [
    {
     "data": {
      "text/plain": [
       "[(7,)]"
      ]
     },
     "execution_count": 10,
     "metadata": {},
     "output_type": "execute_result"
    }
   ],
   "source": [
    "# Вывод количества выполненных заказов за период (в разбивке по дням)\n",
    "\n",
    "# parametered SQL query to fetch data\n",
    "params = {\n",
    "'forklit' : [0, 1],\n",
    "'warehouse' :  [0, 1],\n",
    "# _ts = YYYY-MM-DD HH:mm\n",
    "'from_ts' : \"2023-10-21 12:42:00.000\",\n",
    "'to_ts' : \"2023-10-21 12:45:00.000\",\n",
    "}\n",
    "query = f'''\n",
    "SELECT COUNT(*)\n",
    "FROM `default`.main_data_stg_t\n",
    "WHERE id_forklift in %(forklit)s \n",
    "and id_warehouse in  %(warehouse)s\n",
    "and event_timestamp BETWEEN %(from_ts)s and %(to_ts)s\n",
    "and status = 'FINISH'\n",
    "'''\n",
    "result = client.execute(query, params=params)\n",
    "result"
   ]
  },
  {
   "cell_type": "code",
   "execution_count": 12,
   "id": "9dbf6602-7d84-45fa-a44f-b136a5e4e99b",
   "metadata": {
    "scrolled": true
   },
   "outputs": [
    {
     "data": {
      "text/plain": [
       "(Timedelta('0 days 00:00:57.155000'), Timedelta('0 days 00:00:20.976000'))"
      ]
     },
     "execution_count": 12,
     "metadata": {},
     "output_type": "execute_result"
    }
   ],
   "source": [
    "# Время простоя за период (в разбивке по дням);\n",
    "# Время проведенное в движении за период (в разбивке по дням);\n",
    "# parametered SQL query to fetch data\n",
    "params = {\n",
    "'forklit' : [0],\n",
    "'warehouse' :  [1],\n",
    "# _ts = YYYY-MM-DD HH:mm\n",
    "'from_ts' : \"2023-10-21 12:42:00.000\",\n",
    "'to_ts' : \"2023-10-21 12:45:00.000\",\n",
    "}\n",
    "query = f'''\n",
    "SELECT *\n",
    "FROM `default`.main_data_stg_t\n",
    "WHERE id_forklift in %(forklit)s \n",
    "and id_warehouse in  %(warehouse)s\n",
    "and event_timestamp BETWEEN %(from_ts)s and %(to_ts)s\n",
    "AND (status IN ('FINISH','START')) \n",
    "ORDER by event_timestamp ASC ;\n",
    "'''\n",
    "result = client.execute(query, params=params)\n",
    "\n",
    "# Convert the result to a Pandas DataFrame\n",
    "df = pd.DataFrame(result, columns=[desc[0] for desc in client.execute(\"DESCRIBE `default`.main_data_stg_t\")])\n",
    "# leave only start/finish events. assume the rover moves all the time, while not on k1 station\n",
    "idle_time = (df['event_timestamp'] - df['event_timestamp'].shift(1)).sum() \n",
    "if df['status'][0] == 'START':\n",
    "    idle_time = (df['event_timestamp'] - df['event_timestamp'].shift(1))[1::2].sum()\n",
    "else:\n",
    "    idle_time (df['event_timestamp'] - df['event_timestamp'].shift(1))[::2].sum()\n",
    "busy_time = df['event_timestamp'].max() - df['event_timestamp'].min() - idle_time\n",
    "idle_time, busy_time"
   ]
  },
  {
   "cell_type": "code",
   "execution_count": 13,
   "id": "231ac565-dfea-472b-9fa5-b5c270e5cfdb",
   "metadata": {},
   "outputs": [
    {
     "data": {
      "text/plain": [
       "155"
      ]
     },
     "execution_count": 13,
     "metadata": {},
     "output_type": "execute_result"
    }
   ],
   "source": [
    "# Вывод пройденного расстояния за период (в разбивке по дням);\n",
    "params = {\n",
    "'forklit' : [0],\n",
    "'warehouse' :  [1],\n",
    "# _ts = YYYY-MM-DD HH:mm\n",
    "'from_ts' : \"2023-10-21 12:42:00.000\",\n",
    "'to_ts' : \"2023-10-21 12:45:00.000\",\n",
    "}\n",
    "query = f'''\n",
    "SELECT *\n",
    "FROM `default`.main_data_stg_t\n",
    "WHERE id_forklift in %(forklit)s \n",
    "and id_warehouse in  %(warehouse)s\n",
    "and event_timestamp BETWEEN %(from_ts)s and %(to_ts)s\n",
    "ORDER by event_timestamp ASC ;\n",
    "'''\n",
    "result = client.execute(query, params=params)\n",
    "\n",
    "# Convert the result to a Pandas DataFrame\n",
    "df = pd.DataFrame(result, columns=[desc[0] for desc in client.execute(\"DESCRIBE `default`.main_data_stg_t\")])\n",
    "df['dist'] = df.apply(lambda row: dists[row['id_point']][row['id_next_point']],axis=1)\n",
    "df['dist'].sum()"
   ]
  },
  {
   "cell_type": "code",
   "execution_count": 14,
   "id": "8e19e234-95db-42d9-a3ba-6c2b1dd70718",
   "metadata": {},
   "outputs": [
    {
     "name": "stderr",
     "output_type": "stream",
     "text": [
      "/tmp/ipykernel_630537/3009227092.py:22: SettingWithCopyWarning: \n",
      "A value is trying to be set on a copy of a slice from a DataFrame.\n",
      "Try using .loc[row_indexer,col_indexer] = value instead\n",
      "\n",
      "See the caveats in the documentation: https://pandas.pydata.org/pandas-docs/stable/user_guide/indexing.html#returning-a-view-versus-a-copy\n",
      "  resps['time_in_state'] = resps['event_timestamp'] - df['event_timestamp'].shift()\n"
     ]
    },
    {
     "data": {
      "text/html": [
       "<div>\n",
       "<style scoped>\n",
       "    .dataframe tbody tr th:only-of-type {\n",
       "        vertical-align: middle;\n",
       "    }\n",
       "\n",
       "    .dataframe tbody tr th {\n",
       "        vertical-align: top;\n",
       "    }\n",
       "\n",
       "    .dataframe thead th {\n",
       "        text-align: right;\n",
       "    }\n",
       "</style>\n",
       "<table border=\"1\" class=\"dataframe\">\n",
       "  <thead>\n",
       "    <tr style=\"text-align: right;\">\n",
       "      <th></th>\n",
       "      <th></th>\n",
       "      <th></th>\n",
       "      <th>time_in_state</th>\n",
       "    </tr>\n",
       "    <tr>\n",
       "      <th>status</th>\n",
       "      <th>id_forklift</th>\n",
       "      <th>id_warehouse</th>\n",
       "      <th></th>\n",
       "    </tr>\n",
       "  </thead>\n",
       "  <tbody>\n",
       "    <tr>\n",
       "      <th>FINISH</th>\n",
       "      <th>0</th>\n",
       "      <th>1</th>\n",
       "      <td>0 days 00:00:27.401000</td>\n",
       "    </tr>\n",
       "    <tr>\n",
       "      <th>START</th>\n",
       "      <th>0</th>\n",
       "      <th>1</th>\n",
       "      <td>0 days 00:00:15.258000</td>\n",
       "    </tr>\n",
       "    <tr>\n",
       "      <th>WORK</th>\n",
       "      <th>0</th>\n",
       "      <th>1</th>\n",
       "      <td>0 days 00:00:00.730000</td>\n",
       "    </tr>\n",
       "  </tbody>\n",
       "</table>\n",
       "</div>"
      ],
      "text/plain": [
       "                                         time_in_state\n",
       "status id_forklift id_warehouse                       \n",
       "FINISH 0           1            0 days 00:00:27.401000\n",
       "START  0           1            0 days 00:00:15.258000\n",
       "WORK   0           1            0 days 00:00:00.730000"
      ]
     },
     "execution_count": 14,
     "metadata": {},
     "output_type": "execute_result"
    }
   ],
   "source": [
    "# Время нахождения в каждом из статусов за период.\n",
    "params = {\n",
    "'forklit' : [0],\n",
    "'warehouse' :  [1],\n",
    "# _ts = YYYY-MM-DD HH:mm\n",
    "'from_ts' : \"2023-10-21 12:42:00.000\",\n",
    "'to_ts' : \"2023-10-21 12:45:00.000\",\n",
    "}\n",
    "query = f'''\n",
    "SELECT *\n",
    "FROM `default`.main_data_stg_t\n",
    "WHERE id_forklift in %(forklit)s \n",
    "and id_warehouse in  %(warehouse)s\n",
    "and event_timestamp BETWEEN %(from_ts)s and %(to_ts)s\n",
    "ORDER by event_timestamp ASC ;\n",
    "'''\n",
    "result = client.execute(query, params=params)\n",
    "\n",
    "# Convert the result to a Pandas DataFrame\n",
    "df = pd.DataFrame(result, columns=[desc[0] for desc in client.execute(\"DESCRIBE `default`.main_data_stg_t\")])\n",
    "resps = df[df['status'] != df['status'].shift()]\n",
    "resps['time_in_state'] = resps['event_timestamp'] - df['event_timestamp'].shift()\n",
    "resps.groupby(['status', 'id_forklift', 'id_warehouse']).aggregate({'time_in_state': 'sum' })"
   ]
  },
  {
   "cell_type": "code",
   "execution_count": null,
   "id": "5d727b5a-5c63-443c-b16c-c5129e944cc2",
   "metadata": {},
   "outputs": [],
   "source": []
  }
 ],
 "metadata": {
  "kernelspec": {
   "display_name": ".venv",
   "language": "python",
   "name": ".venv"
  },
  "language_info": {
   "codemirror_mode": {
    "name": "ipython",
    "version": 3
   },
   "file_extension": ".py",
   "mimetype": "text/x-python",
   "name": "python",
   "nbconvert_exporter": "python",
   "pygments_lexer": "ipython3",
   "version": "3.10.12"
  }
 },
 "nbformat": 4,
 "nbformat_minor": 5
}
